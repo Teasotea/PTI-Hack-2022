{
  "cells": [
    {
      "cell_type": "markdown",
      "metadata": {},
      "source": [
        "## Set up the environment"
      ]
    },
    {
      "cell_type": "code",
      "execution_count": 1,
      "metadata": {},
      "outputs": [],
      "source": [
        "N_JOBS = 12"
      ]
    },
    {
      "cell_type": "code",
      "execution_count": 2,
      "metadata": {
        "_cell_guid": "b1076dfc-b9ad-4769-8c92-a6c4dae69d19",
        "_uuid": "8f2839f25d086af736a60e9eeb907d3b93b6e0e5",
        "tags": []
      },
      "outputs": [],
      "source": [
        "from joblib import Parallel, delayed\n",
        "import numpy as np\n",
        "\n",
        "import pandas as pd\n",
        "pd.set_option('display.max_columns', None)\n",
        "\n",
        "from matplotlib.gridspec import GridSpec\n",
        "import matplotlib.pyplot as plt\n",
        "import seaborn as sns\n",
        "\n",
        "plt.rcParams['figure.figsize'] = (14, 8)\n",
        "plt.rcParams['legend.fontsize'] = 14\n",
        "plt.rcParams['axes.titlesize'] = 14\n",
        "sns.set_style('whitegrid')\n",
        "\n",
        "from tqdm import tqdm\n",
        "tqdm.pandas()\n",
        "from tqdm.auto import tqdm as tn\n",
        "        \n",
        "from functools import partial\n",
        "from sklearn.metrics import mean_squared_error\n",
        "\n",
        "rmse = partial(mean_squared_error, squared=False)"
      ]
    },
    {
      "cell_type": "code",
      "execution_count": 3,
      "metadata": {
        "tags": []
      },
      "outputs": [
        {
          "name": "stderr",
          "output_type": "stream",
          "text": [
            "/opt/conda/lib/python3.9/site-packages/IPython/core/interactiveshell.py:3457: DtypeWarning:\n",
            "\n",
            "Columns (14,32) have mixed types.Specify dtype option on import or set low_memory=False.\n",
            "\n"
          ]
        },
        {
          "name": "stdout",
          "output_type": "stream",
          "text": [
            "38851\n",
            "34991\n"
          ]
        }
      ],
      "source": [
        "path = \"data/pti/\"\n",
        "train_path = path + 'train_data.csv'\n",
        "test_path = path + 'test_data_full.csv'\n",
        "sample_path = path +'test_data_check_template.csv'\n",
        "\n",
        "sample = pd.read_csv(sample_path)\n",
        "\n",
        "train_raw = pd.read_csv(train_path, index_col=0, parse_dates=['CreatedDate', 'CreatedDateForInsert', 'PrevOpportunityStageUpdate', 'ValidThroughDate'])\n",
        "test_raw = pd.read_csv(test_path, index_col=0, parse_dates=['CreatedDate', 'CreatedDateForInsert', 'PrevOpportunityStageUpdate', 'ValidThroughDate'])\n",
        "\n",
        "train_raw['is_train'] = 1\n",
        "test_raw['is_train'] = 0\n",
        "\n",
        "all_df = pd.concat([train_raw, test_raw])\n",
        "print(len(all_df))\n",
        "all_df = all_df.drop_duplicates(keep='first', subset=set(all_df.columns) - {'is_train'})\n",
        "print(len(all_df))\n",
        "\n",
        "all_df['orig_index'] = all_df.index\n",
        "all_df['is_test'] = all_df['Id'].isin(sample['Id']).astype('int')"
      ]
    },
    {
      "cell_type": "markdown",
      "metadata": {},
      "source": [
        "## Preprocessing & Feature engineering"
      ]
    },
    {
      "cell_type": "code",
      "execution_count": 4,
      "metadata": {
        "tags": []
      },
      "outputs": [],
      "source": [
        "def basic_prep(X):\n",
        "    # Sort dataframe by time\n",
        "    X = X.sort_values(['CreatedDateForInsert', 'orig_index'])\n",
        "    # drop duplicate cols\n",
        "    X = X.drop(columns=[\"SystemModstamp\", \"PrevOpportunityStageUpdate\"])\n",
        "    # drop all columns with too many Nans\n",
        "    X = X.drop(columns=[\"PrevAmount\", \"PrevCloseDate\"])\n",
        "    # all the same values\n",
        "    X = X.drop(columns=[\"IsDeleted\", \"Territory2Id\", \"PartnerAccountId\"])\n",
        "    \n",
        "    X[\"LeadSource\"] = X[\"LeadSource\"].fillna(\"Other\")\n",
        "    X[\"Original_Lead_Source__c\"] = X[\"Original_Lead_Source__c\"].fillna(\"Other\")\n",
        "    \n",
        "    # Notice that target is divided by 100 for the cross-entropy loss\n",
        "    X['target'] = X.groupby('OpportunityId')['Probability'].shift(-1) / 100\n",
        "    \n",
        "    return X"
      ]
    },
    {
      "cell_type": "code",
      "execution_count": 5,
      "metadata": {
        "tags": []
      },
      "outputs": [],
      "source": [
        "def encode_prep(X: pd.DataFrame) -> pd.DataFrame:\n",
        "    \"\"\"\n",
        "    Simply CountVectorizer, but for particular list columns\n",
        "    \"\"\"\n",
        "    X = X[list_cols].copy()\n",
        "    unique_needs = dict()\n",
        "    for row in X[\"Needs__c\"].dropna():\n",
        "        split_needs = row.split(\";\")\n",
        "        for el in split_needs:\n",
        "            if el not in unique_needs.keys():\n",
        "                unique_needs.update({el : 1})\n",
        "            else:\n",
        "                unique_needs[el] += 1\n",
        "    unique_needs = pd.Series(unique_needs)\n",
        "    needs_names = list(unique_needs.sort_values(ascending=False).index[:21])\n",
        "    for idx, name in enumerate(needs_names):\n",
        "        X[f\"Need_{idx}\"] = X[\"Needs__c\"].str.contains(name).fillna(0).astype('int32')\n",
        "    X = X.drop(columns=[\"Needs__c\"])\n",
        "    # Type_of_Users__c binary features\n",
        "    unique_types = dict()\n",
        "    for row in X[\"Type_of_Users__c\"].dropna():\n",
        "        split_types = row.split(\";\")\n",
        "        for el in split_types:\n",
        "            if el not in unique_types.keys():\n",
        "                unique_types.update({el : 1})\n",
        "            else:\n",
        "                unique_types[el] += 1\n",
        "    unique_types = pd.Series(unique_types)\n",
        "    types_names = list(unique_types.sort_values(ascending=False).index[:2])\n",
        "    for idx, name in enumerate(types_names):\n",
        "        X[f\"Type_of_Users_{idx}\"] = X[\"Type_of_Users__c\"].fillna(0).str.contains(name).fillna(0).astype('int32')\n",
        "    X = X.drop(columns=[\"Type_of_Users__c\"])\n",
        "    return X"
      ]
    },
    {
      "cell_type": "code",
      "execution_count": 6,
      "metadata": {
        "tags": []
      },
      "outputs": [],
      "source": [
        "def get_date_features(X):\n",
        "    orig_cols = date_cols\n",
        "    df = pd.DataFrame(index=X.index)\n",
        "    df['days_since_creation'] = (X['CreatedDateForInsert'] - X['CreatedDate']).dt.days\n",
        "    df['days_valid_through'] = (X['ValidThroughDate'] - X['CreatedDateForInsert']).dt.days\n",
        "    df['days_valid_through_since_creation'] = (X['ValidThroughDate'] - X['CreatedDate']).dt.days\n",
        "    \n",
        "    df['current_year'] = X['CreatedDateForInsert'].dt.year\n",
        "    df['current_quarter'] = X['CreatedDateForInsert'].dt.quarter\n",
        "    \n",
        "    date = (X['CreatedDateForInsert'].dt.dayofyear - 1) / 365\n",
        "    df['current_dayofyear_sin'] = np.sin(2 * np.pi * date)\n",
        "    df['current_dayofyear_cos'] = np.cos(2 * np.pi * date)\n",
        "    return df"
      ]
    },
    {
      "cell_type": "code",
      "execution_count": 7,
      "metadata": {},
      "outputs": [],
      "source": [
        "def get_lag_features(X):\n",
        "    df = pd.DataFrame(index=X.index)\n",
        "    df['prev_prob'] = X.groupby('OpportunityId')['Probability'].shift(1)\n",
        "    df['prob_delta'] = X.groupby('OpportunityId')['Probability'].diff(1)\n",
        "    \n",
        "    df['prev_row'] = X.groupby('OpportunityId')['CreatedDateForInsert'].diff(1).dt.days\n",
        "    df['prev_row_manager'] = X.groupby('CreatedById')['CreatedDateForInsert'].diff(1).dt.days\n",
        "    \n",
        "    df['prev_prob_mean'] = X.groupby('OpportunityId')['Probability'].transform(lambda x: x.expanding().mean())\n",
        "    df['prev_prob_std'] = X.groupby('OpportunityId')['Probability'].transform(lambda x: x.expanding().mean())\n",
        "    df['prev_prob_min'] = X.groupby('OpportunityId')['Probability'].transform(lambda x: x.expanding().min())\n",
        "    df['prev_prob_max'] = X.groupby('OpportunityId')['Probability'].transform(lambda x: x.expanding().max())\n",
        "    df['prev_prob_count'] = X.groupby('OpportunityId')['Probability'].transform(lambda x: x.expanding().count())\n",
        "    \n",
        "    df['prev_manager_std_5'] = X.groupby('CreatedById')['Probability'].transform(lambda x: x.rolling(5).std())\n",
        "    df['prev_manager_std_10'] = X.groupby('CreatedById')['Probability'].transform(lambda x: x.rolling(10).std())\n",
        "    \n",
        "    df['prev_manager_kurt_5'] = X.groupby('CreatedById')['Probability'].transform(lambda x: x.rolling(5).kurt())\n",
        "    df['prev_manager_kurt_10'] = X.groupby('CreatedById')['Probability'].transform(lambda x: x.rolling(10).kurt())\n",
        "    \n",
        "    yyyymm = X['CreatedDateForInsert'].dt.year*100 + X['CreatedDateForInsert'].dt.month\n",
        "    yyyy = X['CreatedDateForInsert'].dt.year\n",
        "    \n",
        "    df['prev_month_num_opports'] = X.groupby(yyyymm)['Probability'].nunique().shift(1)\n",
        "    df['prev_year_num_opports'] = X.groupby(yyyy)['Probability'].nunique().shift()\n",
        "    \n",
        "    df['prev_month_mean_proba'] = X.groupby(yyyymm)['Probability'].mean().shift(1)\n",
        "    df['prev_year_mean_proba'] = X.groupby(yyyy)['Probability'].mean().shift()\n",
        "    \n",
        "    df['prev_month_std_proba'] = X.groupby(yyyymm)['Probability'].std().shift(1)\n",
        "    df['prev_year_std_proba'] = X.groupby(yyyy)['Probability'].std().shift()\n",
        "    \n",
        "    return df\n",
        "    "
      ]
    },
    {
      "cell_type": "code",
      "execution_count": 8,
      "metadata": {
        "tags": []
      },
      "outputs": [],
      "source": [
        "all_df = basic_prep(all_df)\n",
        "\n",
        "id_cols = ['Id', 'OpportunityId', 'is_train', 'is_test']\n",
        "list_cols = [\"Needs__c\", \"Type_of_Users__c\"]\n",
        "numeric_cols = ['Amount', 'Probability', 'StageSortOrder', 'FiscalYear', 'FiscalQuarter', 'Number_of_Seats__c']\n",
        "binary_cols = ['SCC_Interest__c']\n",
        "cat_cols = ['CreatedById', 'AccountId',\n",
        "            'RecordTypeId', 'Type', 'LeadSource', 'CampaignId',\n",
        "            'OwnerId', 'Company_s_CRM_Type__c', 'Deal_type__c',\n",
        "            'TAM__c', 'Secondary_CSM__c', 'Source_Type__c',\n",
        "            'Original_Lead_Source__c', 'Original_Lead_Source_Details__c',\n",
        "            'OpportunityId'\n",
        "           ]\n",
        "date_cols = ['CreatedDate', 'CreatedDateForInsert', 'ValidThroughDate']"
      ]
    },
    {
      "cell_type": "code",
      "execution_count": 9,
      "metadata": {
        "tags": []
      },
      "outputs": [
        {
          "name": "stderr",
          "output_type": "stream",
          "text": [
            "/tmp/ipykernel_32392/4270429515.py:17: UserWarning:\n",
            "\n",
            "This pattern has match groups. To actually get the groups, use str.extract.\n",
            "\n"
          ]
        }
      ],
      "source": [
        "# create features\n",
        "\n",
        "test_idx = all_df['is_test'] == 1\n",
        "train_idx = all_df['is_train'] == 1\n",
        "\n",
        "X = pd.concat([\n",
        "    all_df[numeric_cols + binary_cols],\n",
        "    all_df[cat_cols],\n",
        "    get_date_features(all_df),\n",
        "    encode_prep(all_df),\n",
        "    get_lag_features(all_df)\n",
        "], axis=1)\n",
        "\n",
        "y = all_df['target']\n",
        "\n",
        "X[cat_cols] = X[cat_cols].fillna('NaN')  # for catboost\n",
        "X[cat_cols] = X[cat_cols].astype('category')\n",
        "orig_dtypes = X.dtypes"
      ]
    },
    {
      "cell_type": "code",
      "execution_count": 10,
      "metadata": {
        "tags": []
      },
      "outputs": [],
      "source": [
        "# create basic train/test split\n",
        "X_train, y_train = X[train_idx], y[train_idx]\n",
        "X_test = X[test_idx]\n",
        "\n",
        "time_train = all_df.loc[train_idx, 'CreatedDateForInsert']\n",
        "time_test = all_df.loc[test_idx, 'CreatedDateForInsert']"
      ]
    },
    {
      "cell_type": "code",
      "execution_count": 11,
      "metadata": {},
      "outputs": [],
      "source": [
        "# create train for the classifier\n",
        "\n",
        "good_stages = ['Won', '100% Won / PO / Invoiced']\n",
        "bad_stages = ['Lost', '0% probability Closed Lost Refunded', '0% probability Closed Expired', '0% probability Closed Lost']\n",
        "\n",
        "classifier_labels = X_train.copy()#[['Id', 'StageName']]\n",
        "classifier_labels['time'] = time_train\n",
        "classifier_labels.loc[all_df.loc[train_idx, 'StageName'].isin(bad_stages), 'labels'] = 0\n",
        "classifier_labels.loc[all_df.loc[train_idx, 'StageName'].isin(good_stages), 'labels'] = 1\n",
        "classifier_labels = classifier_labels.dropna(subset=['labels'])\n",
        "time_classifier = classifier_labels['time']\n",
        "X_classifier = classifier_labels.drop(columns=['labels', 'time'])\n",
        "y_classifier = classifier_labels['labels']"
      ]
    },
    {
      "cell_type": "markdown",
      "metadata": {},
      "source": [
        "## Training"
      ]
    },
    {
      "cell_type": "markdown",
      "metadata": {},
      "source": [
        "### Functions"
      ]
    },
    {
      "cell_type": "code",
      "execution_count": 12,
      "metadata": {},
      "outputs": [],
      "source": [
        "def extract_prediction(results):\n",
        "    '''\n",
        "    For the given iterable of results from the \"time_respecting_prediction\"\n",
        "    return np.ndarray of predictions and pd.DataFrame of average feature importance\n",
        "    '''\n",
        "    ps = []\n",
        "    fis = []\n",
        "    for p, fi in results:\n",
        "        ps.append(p)\n",
        "        fis.append(fi)\n",
        "\n",
        "    preds = ps\n",
        "    preds = np.hstack(preds)\n",
        "    preds = np.clip(preds, 0, 1)\n",
        "    \n",
        "    fi = pd.DataFrame(fis).mean().sort_values(ascending=False)#.iloc[:50]\n",
        "    return preds, fi\n",
        "\n",
        "\n",
        "def time_respecting_prediction(row, time, estimator,\n",
        "                               preprocessing=lambda x, y: (x, y),\n",
        "                               importance=lambda x: x.feature_importances_,\n",
        "                               all_X_train=X_train,\n",
        "                               all_y_train=y_train,\n",
        "                               all_time_train=time_train\n",
        "                               ):\n",
        "    '''\n",
        "    fits estimator on train rows before given time\n",
        "    Returns prediction for row and estimator's feature importance\n",
        "    '''\n",
        "    fold_idx = all_time_train < time\n",
        "    X_fold, y_fold = all_X_train[fold_idx], all_y_train[fold_idx]\n",
        "    X_fold, y_fold = X_fold[~y_fold.isna()], y_fold[~y_fold.isna()]\n",
        "    \n",
        "    X_fold, y_fold = preprocessing(X_fold, y_fold)\n",
        "    \n",
        "    row = pd.DataFrame(row).T\n",
        "    row, _ = preprocessing(row, None)\n",
        "    row = row.astype(X_fold.dtypes)\n",
        "\n",
        "    \n",
        "    if len(X_fold) < 10:\n",
        "        print(\"no train available\")\n",
        "        return np.nan, [np.nan] * len(X_fold.columns)\n",
        "    \n",
        "    estimator.fit(X_fold, y_fold)\n",
        "    return estimator.predict(row), importance(estimator)"
      ]
    },
    {
      "cell_type": "code",
      "execution_count": 13,
      "metadata": {},
      "outputs": [],
      "source": [
        "from catboost import CatBoost\n",
        "from lightgbm import LGBMRegressor\n",
        "\n",
        "catboost_params = {\n",
        "    'cat_features': cat_cols,\n",
        "    'random_seed': 45,\n",
        "    # 'loss_function': 'RMSE',\n",
        "    'loss_function': 'RMSE',\n",
        "    'n_estimators': 100,\n",
        "    \"has_time\": True,\n",
        "    'silent': True,\n",
        "    'thread_count': 1,\n",
        "    \n",
        "}\n",
        "lightgbm_params = {\n",
        "    'n_jobs': 1, \n",
        "    'use_missing': True,\n",
        "    'random_seed': 45,\n",
        "    'objective': 'cross_entropy',\n",
        "    'n_estimators': 100\n",
        "}\n",
        "\n",
        "\n",
        "cb = CatBoost(catboost_params)\n",
        "lgbm = LGBMRegressor(**lightgbm_params)\n",
        "\n",
        "\n",
        "estimators = {\n",
        "    'cb': {\n",
        "        'estimator': cb,\n",
        "        'importance': lambda x: x.get_feature_importance()\n",
        "    },\n",
        "    'lightgbm': {\n",
        "        'estimator': lgbm\n",
        "    }\n",
        "}"
      ]
    },
    {
      "cell_type": "markdown",
      "metadata": {},
      "source": [
        "### Train classifier"
      ]
    },
    {
      "cell_type": "code",
      "execution_count": 14,
      "metadata": {},
      "outputs": [
        {
          "data": {
            "application/vnd.jupyter.widget-view+json": {
              "model_id": "db1a9588a67c446b9e00260a148be249",
              "version_major": 2,
              "version_minor": 0
            },
            "text/plain": [
              "  0%|          | 0/34991 [00:00<?, ?it/s]"
            ]
          },
          "metadata": {},
          "output_type": "display_data"
        }
      ],
      "source": [
        "# create classifier prediction for all the given data\n",
        "# about 36 minutes to run on n_jobs=32...\n",
        "\n",
        "classifier_train = {\n",
        "    'all_X_train': X_classifier,\n",
        "    'all_y_train': y_classifier,\n",
        "    'all_time_train': time_classifier\n",
        "}\n",
        "\n",
        "\n",
        "results = Parallel(N_JOBS)(\n",
        "    delayed(time_respecting_prediction)(row, time, **estimators['lightgbm'], **classifier_train)\n",
        "    for (_, row), time in zip(X.iterrows(), tn(all_df['CreatedDateForInsert']))\n",
        ")"
      ]
    },
    {
      "cell_type": "code",
      "execution_count": 15,
      "metadata": {},
      "outputs": [],
      "source": [
        "cpreds, _ = extract_prediction(results)\n",
        "pd.to_pickle(cpreds, 'classifier_stage.pkl')"
      ]
    },
    {
      "cell_type": "code",
      "execution_count": 16,
      "metadata": {},
      "outputs": [],
      "source": [
        "# results = Parallel(N_JOBS)(delayed(time_respecting_prediction)(row, time, **estimators['cb']) for (i, row), time in zip(X_test.iterrows(), tn(time_test)))\n",
        "# preds, fi = extract_prediction(results)\n",
        "\n",
        "# y_true = y[test_idx]\n",
        "# rmse(y_true, preds) * 100"
      ]
    },
    {
      "cell_type": "markdown",
      "metadata": {},
      "source": [
        "### Preparation"
      ]
    },
    {
      "cell_type": "code",
      "execution_count": 17,
      "metadata": {},
      "outputs": [],
      "source": [
        "cpreds = pd.read_pickle('classifier_stage.pkl')\n",
        "cpreds = pd.Series(cpreds).fillna(0.5).values"
      ]
    },
    {
      "cell_type": "markdown",
      "metadata": {},
      "source": [
        "### Train LGBMs"
      ]
    },
    {
      "cell_type": "code",
      "execution_count": 18,
      "metadata": {},
      "outputs": [],
      "source": [
        "gt5_filter = (cpreds>=0.5)[train_idx]\n",
        "gt5_train = {\n",
        "    'all_X_train': X_train[gt5_filter],\n",
        "    'all_y_train': y_train[gt5_filter],\n",
        "    'all_time_train': time_train[gt5_filter]\n",
        "}\n",
        "\n",
        "\n",
        "lt5_filter = (cpreds<0.5)[train_idx]\n",
        "lt5_train = {\n",
        "    'all_X_train': X_train[lt5_filter],\n",
        "    'all_y_train': y_train[lt5_filter],\n",
        "    'all_time_train': time_train[lt5_filter]\n",
        "}\n"
      ]
    },
    {
      "cell_type": "code",
      "execution_count": 19,
      "metadata": {},
      "outputs": [
        {
          "data": {
            "application/vnd.jupyter.widget-view+json": {
              "model_id": "137490efbf254e91a66f4373fccb115a",
              "version_major": 2,
              "version_minor": 0
            },
            "text/plain": [
              "  0%|          | 0/3702 [00:00<?, ?it/s]"
            ]
          },
          "metadata": {},
          "output_type": "display_data"
        },
        {
          "data": {
            "application/vnd.jupyter.widget-view+json": {
              "model_id": "de4f6affd80c4923a32e00b38959ff19",
              "version_major": 2,
              "version_minor": 0
            },
            "text/plain": [
              "  0%|          | 0/3702 [00:00<?, ?it/s]"
            ]
          },
          "metadata": {},
          "output_type": "display_data"
        }
      ],
      "source": [
        "results_gt5_lg = Parallel(N_JOBS)(\n",
        "    delayed(time_respecting_prediction)(row, time, **estimators['lightgbm'], **gt5_train)\n",
        "    for (i, row), time in zip(X_test.iterrows(), tn(time_test))\n",
        ")\n",
        "results_lt5_lg = Parallel(N_JOBS)(\n",
        "    delayed(time_respecting_prediction)(row, time, **estimators['lightgbm'], **lt5_train)\n",
        "    for (i, row), time in zip(X_test.iterrows(), tn(time_test))\n",
        ")"
      ]
    },
    {
      "cell_type": "markdown",
      "metadata": {},
      "source": [
        "### Train Catboosts"
      ]
    },
    {
      "cell_type": "code",
      "execution_count": 20,
      "metadata": {},
      "outputs": [
        {
          "data": {
            "application/vnd.jupyter.widget-view+json": {
              "model_id": "714494e9869745bb95cb56ed6a8757af",
              "version_major": 2,
              "version_minor": 0
            },
            "text/plain": [
              "  0%|          | 0/3702 [00:00<?, ?it/s]"
            ]
          },
          "metadata": {},
          "output_type": "display_data"
        },
        {
          "data": {
            "application/vnd.jupyter.widget-view+json": {
              "model_id": "c62748ebb02142de8ea693066fcb9b9b",
              "version_major": 2,
              "version_minor": 0
            },
            "text/plain": [
              "  0%|          | 0/3702 [00:00<?, ?it/s]"
            ]
          },
          "metadata": {},
          "output_type": "display_data"
        }
      ],
      "source": [
        "from catboost import CatBoost\n",
        "\n",
        "X_train = X_train.drop(columns=['OpportunityId'])\n",
        "X_test = X_test.drop(columns=['OpportunityId'])\n",
        "cat_cols = cat_cols[:-1]\n",
        "\n",
        "gt5_filter = (cpreds>=0.5)[train_idx]\n",
        "gt5_train = {\n",
        "    'all_X_train': X_train[gt5_filter],\n",
        "    'all_y_train': y_train[gt5_filter],\n",
        "    'all_time_train': time_train[gt5_filter]\n",
        "}\n",
        "\n",
        "\n",
        "lt5_filter = (cpreds<0.5)[train_idx]\n",
        "lt5_train = {\n",
        "    'all_X_train': X_train[lt5_filter],\n",
        "    'all_y_train': y_train[lt5_filter],\n",
        "    'all_time_train': time_train[lt5_filter]\n",
        "}\n",
        "\n",
        "\n",
        "catboost_params = {\n",
        "    'cat_features': cat_cols,\n",
        "    'random_seed': 45,\n",
        "    'loss_function': 'RMSE',\n",
        "    'n_estimators': 100,\n",
        "    \"has_time\": True,\n",
        "    'silent': True,\n",
        "    'thread_count': 1,\n",
        "}\n",
        "\n",
        "cb = CatBoost(catboost_params)\n",
        "\n",
        "catboost = {\n",
        "    'estimator': cb,\n",
        "    'importance': lambda x: x.get_feature_importance()\n",
        "}\n",
        "\n",
        "\n",
        "results_gt5_cb = Parallel(N_JOBS)(\n",
        "    delayed(time_respecting_prediction)(row, time, **catboost, **gt5_train)\n",
        "    for (i, row), time in zip(X_test.iterrows(), tn(time_test))\n",
        ")\n",
        "results_lt5_cb = Parallel(N_JOBS)(\n",
        "    delayed(time_respecting_prediction)(row, time, **catboost, **lt5_train)\n",
        "    for (i, row), time in zip(X_test.iterrows(), tn(time_test))\n",
        ")\n"
      ]
    },
    {
      "cell_type": "markdown",
      "metadata": {},
      "source": [
        "### Stack together"
      ]
    },
    {
      "cell_type": "code",
      "execution_count": 21,
      "metadata": {},
      "outputs": [],
      "source": [
        "preds5gt_lg, _ = extract_prediction(results_gt5_lg)\n",
        "preds5lt_lg, _ = extract_prediction(results_lt5_lg)\n",
        "preds5gt_cb, _ = extract_prediction(results_gt5_cb)\n",
        "preds5lt_cb, _ = extract_prediction(results_lt5_cb)"
      ]
    },
    {
      "cell_type": "code",
      "execution_count": 22,
      "metadata": {},
      "outputs": [],
      "source": [
        "preds5lt_lg = np.where(np.isnan(preds5lt_lg), preds5gt_lg, preds5lt_lg)\n",
        "preds5lt_cb = np.where(np.isnan(preds5lt_cb), preds5gt_cb, preds5lt_cb)\n",
        "\n",
        "comb_lg = np.where((cpreds>=0.5)[test_idx], preds5gt_lg, preds5lt_lg)\n",
        "comb_cb = np.where((cpreds>=0.5)[test_idx], preds5gt_cb, preds5lt_cb)"
      ]
    },
    {
      "cell_type": "code",
      "execution_count": 23,
      "metadata": {},
      "outputs": [],
      "source": [
        "y_true = y[test_idx]"
      ]
    },
    {
      "cell_type": "code",
      "execution_count": 24,
      "metadata": {},
      "outputs": [
        {
          "data": {
            "text/plain": [
              "(20.877274323286414, 20.72668380012609)"
            ]
          },
          "execution_count": 24,
          "metadata": {},
          "output_type": "execute_result"
        }
      ],
      "source": [
        "rmse(y_true, comb_cb) * 100, rmse(y_true, comb_lg) * 100"
      ]
    },
    {
      "cell_type": "code",
      "execution_count": 25,
      "metadata": {},
      "outputs": [
        {
          "data": {
            "text/plain": [
              "20.370326166655563"
            ]
          },
          "execution_count": 25,
          "metadata": {},
          "output_type": "execute_result"
        }
      ],
      "source": [
        "rmse(y_true, 0.6*comb_lg + 0.4*comb_cb) * 100"
      ]
    },
    {
      "cell_type": "code",
      "execution_count": 26,
      "metadata": {},
      "outputs": [],
      "source": [
        "target_pred = pd.DataFrame({\n",
        "    'Id': all_df.loc[test_idx, 'Id'],\n",
        "    # 'target': y_true,\n",
        "    'Probability': (0.6*comb_lg + 0.4*comb_cb)*100\n",
        "})\n",
        "target_pred.to_csv('fair_threshold_com_stage_class_stack_catboost.csv', index=False)"
      ]
    },
    {
      "cell_type": "markdown",
      "metadata": {},
      "source": [
        "### Exploration"
      ]
    },
    {
      "cell_type": "code",
      "execution_count": 27,
      "metadata": {},
      "outputs": [
        {
          "data": {
            "text/plain": [
              "<AxesSubplot:xlabel='col', ylabel='distribution'>"
            ]
          },
          "execution_count": 27,
          "metadata": {},
          "output_type": "execute_result"
        },
        {
          "data": {
            "image/png": "[encoded data removed]",
            "text/plain": [
              "<Figure size 1008x576 with 1 Axes>"
            ]
          },
          "metadata": {},
          "output_type": "display_data"
        }
      ],
      "source": [
        "target_pred = pd.DataFrame({\n",
        "    'target': y_true,\n",
        "    'prediction': comb_lg,\n",
        "    'gt50': preds5gt_lg,\n",
        "    'lt50': preds5lt_lg,\n",
        "    'classifier': (cpreds > 0.5)[test_idx]\n",
        "})\n",
        "\n",
        "pdfs = []\n",
        "for col in ['target', 'prediction', 'gt50', 'lt50']:\n",
        "    pdf = target_pred[[col, 'classifier']].rename(columns={col: 'distribution'})\n",
        "    pdf['col'] = col\n",
        "    pdfs.append(pdf)\n",
        "\n",
        "pdfs = pd.concat(pdfs)\n",
        "\n",
        "sns.violinplot(data=pdfs, cut=True, x='col', y='distribution', split=True, hue='classifier')"
      ]
    },
    {
      "cell_type": "code",
      "execution_count": 28,
      "metadata": {},
      "outputs": [
        {
          "data": {
            "text/plain": [
              "<AxesSubplot:>"
            ]
          },
          "execution_count": 28,
          "metadata": {},
          "output_type": "execute_result"
        },
        {
          "data": {
            "image/png": "[encoded data removed]",
            "text/plain": [
              "<Figure size 1008x576 with 1 Axes>"
            ]
          },
          "metadata": {},
          "output_type": "display_data"
        }
      ],
      "source": [
        "target_pred = pd.DataFrame({\n",
        "    'target': y_true,\n",
        "    'lightgbm prediction': comb_lg,\n",
        "    # 'lgbm gt50': preds5gt_lg,\n",
        "    # 'lgbm lt50': preds5lt_lg,\n",
        "#     'catboost prediction': comb_cb,\n",
        "    \n",
        "#     'catboost gt50': preds5gt_cb,\n",
        "#     'catboost lt50': preds5lt_cb,\n",
        "    # 'classifier': (cpreds > 0.5)[test_idx]\n",
        "})\n",
        "\n",
        "\n",
        "sns.violinplot(data=target_pred, cut=True, )"
      ]
    },
    {
      "cell_type": "code",
      "execution_count": 29,
      "metadata": {},
      "outputs": [
        {
          "data": {
            "text/plain": [
              "<AxesSubplot:ylabel='Count'>"
            ]
          },
          "execution_count": 29,
          "metadata": {},
          "output_type": "execute_result"
        },
        {
          "data": {
            "image/png": "[encoded data removed]",
            "text/plain": [
              "<Figure size 1008x576 with 1 Axes>"
            ]
          },
          "metadata": {},
          "output_type": "display_data"
        }
      ],
      "source": [
        "target_pred = pd.DataFrame({\n",
        "    # 'Id': all_df.loc[test_idx, 'Id'],\n",
        "    # 'target': y_true,\n",
        "    'prediction': comb_lg,\n",
        "    'gt50': preds5gt_lg,\n",
        "    'lt50': preds5lt_lg,\n",
        "    'classifier': (cpreds)[test_idx]\n",
        "})\n",
        "\n",
        "sns.histplot(data=target_pred, common_norm=True, bins=100)"
      ]
    },
    {
      "cell_type": "code",
      "execution_count": 30,
      "metadata": {},
      "outputs": [],
      "source": []
    }
  ],
  "metadata": {
    "kernelspec": {
      "display_name": "Python 3 (ipykernel)",
      "language": "python",
      "name": "python3"
    },
    "language_info": {
      "codemirror_mode": {
        "name": "ipython",
        "version": 3
      },
      "file_extension": ".py",
      "mimetype": "text/x-python",
      "name": "python",
      "nbconvert_exporter": "python",
      "pygments_lexer": "ipython3",
      "version": "3.9.7"
    }
  },
  "nbformat": 4,
  "nbformat_minor": 4
}